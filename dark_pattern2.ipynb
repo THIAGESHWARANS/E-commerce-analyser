{
 "cells": [
  {
   "cell_type": "code",
   "execution_count": 1,
   "id": "3106049f",
   "metadata": {},
   "outputs": [],
   "source": [
    "import numpy as np\n",
    "import pandas as pd\n",
    "import torch\n",
    "from transformers import BertTokenizer, BertForSequenceClassification, AdamW\n",
    "from torch.utils.data import TensorDataset, DataLoader, RandomSampler, SequentialSampler\n",
    "from sklearn.model_selection import train_test_split\n",
    "from sklearn.metrics import accuracy_score\n",
    "import pickle"
   ]
  },
  {
   "cell_type": "code",
   "execution_count": 2,
   "id": "aea3c3cd",
   "metadata": {},
   "outputs": [],
   "source": [
    "tokenizer = BertTokenizer.from_pretrained('bert-base-uncased')"
   ]
  },
  {
   "cell_type": "code",
   "execution_count": 3,
   "id": "ae79229f",
   "metadata": {},
   "outputs": [],
   "source": [
    "df = pd.read_csv(\"normie.csv\")"
   ]
  },
  {
   "cell_type": "code",
   "execution_count": 4,
   "id": "490fea3d",
   "metadata": {},
   "outputs": [],
   "source": [
    "df.columns = df.columns.str.strip()"
   ]
  },
  {
   "cell_type": "code",
   "execution_count": 5,
   "id": "4a9bb3ef",
   "metadata": {
    "scrolled": true
   },
   "outputs": [],
   "source": [
    "# Modify the preprocessing function to handle non-string values and missing values\n",
    "from torch.nn.utils.rnn import pad_sequence\n",
    "\n",
    "def preprocess_data(df):\n",
    "    df = df.dropna().copy()  # Drop rows with NaN values and create a copy\n",
    "    df['Pattern String'] = df['Pattern String'].astype(str)  # Convert to string\n",
    "    df['Pattern String'] = df['Pattern String'].fillna(\"\")    # Handle missing values\n",
    "    tokenized_texts = [tokenizer.tokenize(pattern) for pattern in df['Pattern String']]\n",
    "    input_ids = [tokenizer.convert_tokens_to_ids(tokens) for tokens in tokenized_texts]\n",
    "    input_ids = pad_sequence([torch.tensor(ids) for ids in input_ids], batch_first=True)\n",
    "    attention_masks = [[float(i != 0) for i in ids] for ids in input_ids]\n",
    "\n",
    "    label_dict = {\"not dark\": 0, \"dark\": 1}\n",
    "    labels = [label_dict[label] for label in df['classification']]\n",
    "\n",
    "    return input_ids, attention_masks, labels\n",
    "\n",
    "# Call the preprocess_data function again\n",
    "input_ids, attention_masks, labels = preprocess_data(df)\n",
    "\n",
    "# Splitting the dataset into train and validation sets\n",
    "train_inputs, validation_inputs, train_labels, validation_labels = train_test_split(input_ids, labels, random_state=42, test_size=0.1)\n",
    "train_masks, validation_masks, _, _ = train_test_split(attention_masks, input_ids, random_state=42, test_size=0.1)\n",
    "\n",
    "# Convert data into torch tensors\n",
    "train_labels = torch.tensor(train_labels)\n",
    "validation_labels = torch.tensor(validation_labels)\n",
    "\n",
    "# Create DataLoader for handling batches\n",
    "batch_size = 32\n",
    "train_data = TensorDataset(train_inputs, torch.tensor(train_masks), train_labels)\n",
    "train_sampler = RandomSampler(train_data)\n",
    "train_dataloader = DataLoader(train_data, sampler=train_sampler, batch_size=batch_size)\n",
    "\n",
    "validation_data = TensorDataset(validation_inputs, torch.tensor(validation_masks), validation_labels)\n",
    "validation_sampler = SequentialSampler(validation_data)\n",
    "validation_dataloader = DataLoader(validation_data, sampler=validation_sampler, batch_size=batch_size)\n"
   ]
  },
  {
   "cell_type": "code",
   "execution_count": null,
   "id": "9529d0ea",
   "metadata": {},
   "outputs": [],
   "source": [
    "def compute_metrics(pred):\n",
    "    labels = pred.label_ids\n",
    "    preds = (pred.predictions[:, 1] > 0.5).astype(int)\n",
    "\n",
    "    precision, recall, f1, _ = precision_recall_fscore_support(labels, preds, average=\"binary\")\n",
    "    acc = accuracy_score(labels, preds)\n",
    "    return {\"Accuracy\": acc, \"F1\": f1, \"Precision\": precision, \"Recall\": recall}\n"
   ]
  },
  {
   "cell_type": "code",
   "execution_count": null,
   "id": "9e535774",
   "metadata": {},
   "outputs": [],
   "source": [
    "# Create and train the model\n",
    "trainer = Trainer(\n",
    "    model=model,\n",
    "    args=training_args,\n",
    "    train_dataset=train_dataset,  # Pass the dataset, not the DataLoader\n",
    "    eval_dataset=val_dataset,      # Pass the dataset, not the DataLoader\n",
    "    compute_metrics=compute_metrics,\n",
    ")\n",
    "\n",
    "trainer.train()\n"
   ]
  },
  {
   "cell_type": "code",
   "execution_count": null,
   "id": "d6d544df",
   "metadata": {},
   "outputs": [],
   "source": [
    "import pickle\n",
    "import torch\n",
    "from transformers import BertForSequenceClassification, BertTokenizer\n",
    "\n",
    "# Define the model and tokenizer paths\n",
    "model_path = \"dark_pattern2.pkl\"\n",
    "\n",
    "\n",
    "# Save the model as a .pkl file\n",
    "torch.save(model.state_dict(), model_path)\n",
    "\n",
    "# Save the tokenizer as a .pkl file\n",
    "with open(tokenizer_path, \"wb\") as f:\n",
    "    pickle.dump(tokenizer, f)"
   ]
  },
  {
   "cell_type": "code",
   "execution_count": null,
   "id": "cc17225c",
   "metadata": {},
   "outputs": [],
   "source": []
  }
 ],
 "metadata": {
  "kernelspec": {
   "display_name": "Python 3 (ipykernel)",
   "language": "python",
   "name": "python3"
  },
  "language_info": {
   "codemirror_mode": {
    "name": "ipython",
    "version": 3
   },
   "file_extension": ".py",
   "mimetype": "text/x-python",
   "name": "python",
   "nbconvert_exporter": "python",
   "pygments_lexer": "ipython3",
   "version": "3.11.1"
  }
 },
 "nbformat": 4,
 "nbformat_minor": 5
}
